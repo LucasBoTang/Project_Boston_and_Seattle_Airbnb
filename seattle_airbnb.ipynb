{
 "cells": [
  {
   "cell_type": "markdown",
   "metadata": {},
   "source": [
    "# Project: Seattle Airbnb"
   ]
  },
  {
   "cell_type": "markdown",
   "metadata": {},
   "source": [
    "> For this project, you will pick a dataset. Inspired by Robert, there are a few public datasets from AirBnB available below, but you may also choose a dataset similar to what was used in the lessons, or an entirely different dataset. Using your dataset, you will choose 3 questions you aspire to answer from the data.\n",
    "\n",
    "I chose Airbnb data in Seattle, and have the following three questions:\n",
    "\n",
    "- What is the seasonal pattern of Airbnb in Seattle?\n",
    "\n",
    "- What kinds of airbnb homes are popular?\n",
    "\n",
    "- What are the most influencial features about the rental price?"
   ]
  },
  {
   "cell_type": "code",
   "execution_count": 1,
   "metadata": {},
   "outputs": [],
   "source": [
    "# import libraries\n",
    "import numpy as np\n",
    "import pandas as pd\n",
    "import matplotlib.pyplot as plt\n",
    "import seaborn as sns"
   ]
  },
  {
   "cell_type": "code",
   "execution_count": 2,
   "metadata": {},
   "outputs": [],
   "source": [
    "# load data\n",
    "cal = pd.read_csv('D:/OneDrive/Study/MOOC/Udacity/Data_Scientist/DSND_Term2/04Seattle_Airbnb/data/calendar.csv')\n",
    "lst = pd.read_csv('D:/OneDrive/Study/MOOC/Udacity/Data_Scientist/DSND_Term2/04Seattle_Airbnb/data/listings.csv')\n",
    "rev = pd.read_csv('D:/OneDrive/Study/MOOC/Udacity/Data_Scientist/DSND_Term2/04Seattle_Airbnb/data/reviews.csv')"
   ]
  },
  {
   "cell_type": "markdown",
   "metadata": {},
   "source": [
    "## Data understanding"
   ]
  },
  {
   "cell_type": "code",
   "execution_count": 3,
   "metadata": {},
   "outputs": [
    {
     "data": {
      "text/html": [
       "<div>\n",
       "<style scoped>\n",
       "    .dataframe tbody tr th:only-of-type {\n",
       "        vertical-align: middle;\n",
       "    }\n",
       "\n",
       "    .dataframe tbody tr th {\n",
       "        vertical-align: top;\n",
       "    }\n",
       "\n",
       "    .dataframe thead th {\n",
       "        text-align: right;\n",
       "    }\n",
       "</style>\n",
       "<table border=\"1\" class=\"dataframe\">\n",
       "  <thead>\n",
       "    <tr style=\"text-align: right;\">\n",
       "      <th></th>\n",
       "      <th>listing_id</th>\n",
       "      <th>date</th>\n",
       "      <th>available</th>\n",
       "      <th>price</th>\n",
       "    </tr>\n",
       "  </thead>\n",
       "  <tbody>\n",
       "    <tr>\n",
       "      <th>0</th>\n",
       "      <td>241032</td>\n",
       "      <td>2016-01-04</td>\n",
       "      <td>t</td>\n",
       "      <td>$85.00</td>\n",
       "    </tr>\n",
       "    <tr>\n",
       "      <th>1</th>\n",
       "      <td>241032</td>\n",
       "      <td>2016-01-05</td>\n",
       "      <td>t</td>\n",
       "      <td>$85.00</td>\n",
       "    </tr>\n",
       "    <tr>\n",
       "      <th>2</th>\n",
       "      <td>241032</td>\n",
       "      <td>2016-01-06</td>\n",
       "      <td>f</td>\n",
       "      <td>NaN</td>\n",
       "    </tr>\n",
       "    <tr>\n",
       "      <th>3</th>\n",
       "      <td>241032</td>\n",
       "      <td>2016-01-07</td>\n",
       "      <td>f</td>\n",
       "      <td>NaN</td>\n",
       "    </tr>\n",
       "    <tr>\n",
       "      <th>4</th>\n",
       "      <td>241032</td>\n",
       "      <td>2016-01-08</td>\n",
       "      <td>f</td>\n",
       "      <td>NaN</td>\n",
       "    </tr>\n",
       "  </tbody>\n",
       "</table>\n",
       "</div>"
      ],
      "text/plain": [
       "   listing_id        date available   price\n",
       "0      241032  2016-01-04         t  $85.00\n",
       "1      241032  2016-01-05         t  $85.00\n",
       "2      241032  2016-01-06         f     NaN\n",
       "3      241032  2016-01-07         f     NaN\n",
       "4      241032  2016-01-08         f     NaN"
      ]
     },
     "execution_count": 3,
     "metadata": {},
     "output_type": "execute_result"
    }
   ],
   "source": [
    "cal.head()"
   ]
  },
  {
   "cell_type": "code",
   "execution_count": 4,
   "metadata": {},
   "outputs": [
    {
     "name": "stdout",
     "output_type": "stream",
     "text": [
      "<class 'pandas.core.frame.DataFrame'>\n",
      "RangeIndex: 1393570 entries, 0 to 1393569\n",
      "Data columns (total 4 columns):\n",
      "listing_id    1393570 non-null int64\n",
      "date          1393570 non-null object\n",
      "available     1393570 non-null object\n",
      "price         934542 non-null object\n",
      "dtypes: int64(1), object(3)\n",
      "memory usage: 42.5+ MB\n"
     ]
    }
   ],
   "source": [
    "cal.info()"
   ]
  },
  {
   "cell_type": "code",
   "execution_count": 5,
   "metadata": {},
   "outputs": [
    {
     "data": {
      "text/html": [
       "<div>\n",
       "<style scoped>\n",
       "    .dataframe tbody tr th:only-of-type {\n",
       "        vertical-align: middle;\n",
       "    }\n",
       "\n",
       "    .dataframe tbody tr th {\n",
       "        vertical-align: top;\n",
       "    }\n",
       "\n",
       "    .dataframe thead th {\n",
       "        text-align: right;\n",
       "    }\n",
       "</style>\n",
       "<table border=\"1\" class=\"dataframe\">\n",
       "  <thead>\n",
       "    <tr style=\"text-align: right;\">\n",
       "      <th></th>\n",
       "      <th>id</th>\n",
       "      <th>listing_url</th>\n",
       "      <th>scrape_id</th>\n",
       "      <th>last_scraped</th>\n",
       "      <th>name</th>\n",
       "      <th>summary</th>\n",
       "      <th>space</th>\n",
       "      <th>description</th>\n",
       "      <th>experiences_offered</th>\n",
       "      <th>neighborhood_overview</th>\n",
       "      <th>...</th>\n",
       "      <th>review_scores_value</th>\n",
       "      <th>requires_license</th>\n",
       "      <th>license</th>\n",
       "      <th>jurisdiction_names</th>\n",
       "      <th>instant_bookable</th>\n",
       "      <th>cancellation_policy</th>\n",
       "      <th>require_guest_profile_picture</th>\n",
       "      <th>require_guest_phone_verification</th>\n",
       "      <th>calculated_host_listings_count</th>\n",
       "      <th>reviews_per_month</th>\n",
       "    </tr>\n",
       "  </thead>\n",
       "  <tbody>\n",
       "    <tr>\n",
       "      <th>0</th>\n",
       "      <td>241032</td>\n",
       "      <td>https://www.airbnb.com/rooms/241032</td>\n",
       "      <td>20160104002432</td>\n",
       "      <td>2016-01-04</td>\n",
       "      <td>Stylish Queen Anne Apartment</td>\n",
       "      <td>NaN</td>\n",
       "      <td>Make your self at home in this charming one-be...</td>\n",
       "      <td>Make your self at home in this charming one-be...</td>\n",
       "      <td>none</td>\n",
       "      <td>NaN</td>\n",
       "      <td>...</td>\n",
       "      <td>10.0</td>\n",
       "      <td>f</td>\n",
       "      <td>NaN</td>\n",
       "      <td>WASHINGTON</td>\n",
       "      <td>f</td>\n",
       "      <td>moderate</td>\n",
       "      <td>f</td>\n",
       "      <td>f</td>\n",
       "      <td>2</td>\n",
       "      <td>4.07</td>\n",
       "    </tr>\n",
       "    <tr>\n",
       "      <th>1</th>\n",
       "      <td>953595</td>\n",
       "      <td>https://www.airbnb.com/rooms/953595</td>\n",
       "      <td>20160104002432</td>\n",
       "      <td>2016-01-04</td>\n",
       "      <td>Bright &amp; Airy Queen Anne Apartment</td>\n",
       "      <td>Chemically sensitive? We've removed the irrita...</td>\n",
       "      <td>Beautiful, hypoallergenic apartment in an extr...</td>\n",
       "      <td>Chemically sensitive? We've removed the irrita...</td>\n",
       "      <td>none</td>\n",
       "      <td>Queen Anne is a wonderful, truly functional vi...</td>\n",
       "      <td>...</td>\n",
       "      <td>10.0</td>\n",
       "      <td>f</td>\n",
       "      <td>NaN</td>\n",
       "      <td>WASHINGTON</td>\n",
       "      <td>f</td>\n",
       "      <td>strict</td>\n",
       "      <td>t</td>\n",
       "      <td>t</td>\n",
       "      <td>6</td>\n",
       "      <td>1.48</td>\n",
       "    </tr>\n",
       "    <tr>\n",
       "      <th>2</th>\n",
       "      <td>3308979</td>\n",
       "      <td>https://www.airbnb.com/rooms/3308979</td>\n",
       "      <td>20160104002432</td>\n",
       "      <td>2016-01-04</td>\n",
       "      <td>New Modern House-Amazing water view</td>\n",
       "      <td>New modern house built in 2013.  Spectacular s...</td>\n",
       "      <td>Our house is modern, light and fresh with a wa...</td>\n",
       "      <td>New modern house built in 2013.  Spectacular s...</td>\n",
       "      <td>none</td>\n",
       "      <td>Upper Queen Anne is a charming neighborhood fu...</td>\n",
       "      <td>...</td>\n",
       "      <td>10.0</td>\n",
       "      <td>f</td>\n",
       "      <td>NaN</td>\n",
       "      <td>WASHINGTON</td>\n",
       "      <td>f</td>\n",
       "      <td>strict</td>\n",
       "      <td>f</td>\n",
       "      <td>f</td>\n",
       "      <td>2</td>\n",
       "      <td>1.15</td>\n",
       "    </tr>\n",
       "    <tr>\n",
       "      <th>3</th>\n",
       "      <td>7421966</td>\n",
       "      <td>https://www.airbnb.com/rooms/7421966</td>\n",
       "      <td>20160104002432</td>\n",
       "      <td>2016-01-04</td>\n",
       "      <td>Queen Anne Chateau</td>\n",
       "      <td>A charming apartment that sits atop Queen Anne...</td>\n",
       "      <td>NaN</td>\n",
       "      <td>A charming apartment that sits atop Queen Anne...</td>\n",
       "      <td>none</td>\n",
       "      <td>NaN</td>\n",
       "      <td>...</td>\n",
       "      <td>NaN</td>\n",
       "      <td>f</td>\n",
       "      <td>NaN</td>\n",
       "      <td>WASHINGTON</td>\n",
       "      <td>f</td>\n",
       "      <td>flexible</td>\n",
       "      <td>f</td>\n",
       "      <td>f</td>\n",
       "      <td>1</td>\n",
       "      <td>NaN</td>\n",
       "    </tr>\n",
       "    <tr>\n",
       "      <th>4</th>\n",
       "      <td>278830</td>\n",
       "      <td>https://www.airbnb.com/rooms/278830</td>\n",
       "      <td>20160104002432</td>\n",
       "      <td>2016-01-04</td>\n",
       "      <td>Charming craftsman 3 bdm house</td>\n",
       "      <td>Cozy family craftman house in beautiful neighb...</td>\n",
       "      <td>Cozy family craftman house in beautiful neighb...</td>\n",
       "      <td>Cozy family craftman house in beautiful neighb...</td>\n",
       "      <td>none</td>\n",
       "      <td>We are in the beautiful neighborhood of Queen ...</td>\n",
       "      <td>...</td>\n",
       "      <td>9.0</td>\n",
       "      <td>f</td>\n",
       "      <td>NaN</td>\n",
       "      <td>WASHINGTON</td>\n",
       "      <td>f</td>\n",
       "      <td>strict</td>\n",
       "      <td>f</td>\n",
       "      <td>f</td>\n",
       "      <td>1</td>\n",
       "      <td>0.89</td>\n",
       "    </tr>\n",
       "  </tbody>\n",
       "</table>\n",
       "<p>5 rows × 92 columns</p>\n",
       "</div>"
      ],
      "text/plain": [
       "        id                           listing_url       scrape_id last_scraped  \\\n",
       "0   241032   https://www.airbnb.com/rooms/241032  20160104002432   2016-01-04   \n",
       "1   953595   https://www.airbnb.com/rooms/953595  20160104002432   2016-01-04   \n",
       "2  3308979  https://www.airbnb.com/rooms/3308979  20160104002432   2016-01-04   \n",
       "3  7421966  https://www.airbnb.com/rooms/7421966  20160104002432   2016-01-04   \n",
       "4   278830   https://www.airbnb.com/rooms/278830  20160104002432   2016-01-04   \n",
       "\n",
       "                                  name  \\\n",
       "0         Stylish Queen Anne Apartment   \n",
       "1   Bright & Airy Queen Anne Apartment   \n",
       "2  New Modern House-Amazing water view   \n",
       "3                   Queen Anne Chateau   \n",
       "4       Charming craftsman 3 bdm house   \n",
       "\n",
       "                                             summary  \\\n",
       "0                                                NaN   \n",
       "1  Chemically sensitive? We've removed the irrita...   \n",
       "2  New modern house built in 2013.  Spectacular s...   \n",
       "3  A charming apartment that sits atop Queen Anne...   \n",
       "4  Cozy family craftman house in beautiful neighb...   \n",
       "\n",
       "                                               space  \\\n",
       "0  Make your self at home in this charming one-be...   \n",
       "1  Beautiful, hypoallergenic apartment in an extr...   \n",
       "2  Our house is modern, light and fresh with a wa...   \n",
       "3                                                NaN   \n",
       "4  Cozy family craftman house in beautiful neighb...   \n",
       "\n",
       "                                         description experiences_offered  \\\n",
       "0  Make your self at home in this charming one-be...                none   \n",
       "1  Chemically sensitive? We've removed the irrita...                none   \n",
       "2  New modern house built in 2013.  Spectacular s...                none   \n",
       "3  A charming apartment that sits atop Queen Anne...                none   \n",
       "4  Cozy family craftman house in beautiful neighb...                none   \n",
       "\n",
       "                               neighborhood_overview  ... review_scores_value  \\\n",
       "0                                                NaN  ...                10.0   \n",
       "1  Queen Anne is a wonderful, truly functional vi...  ...                10.0   \n",
       "2  Upper Queen Anne is a charming neighborhood fu...  ...                10.0   \n",
       "3                                                NaN  ...                 NaN   \n",
       "4  We are in the beautiful neighborhood of Queen ...  ...                 9.0   \n",
       "\n",
       "  requires_license license jurisdiction_names instant_bookable  \\\n",
       "0                f     NaN         WASHINGTON                f   \n",
       "1                f     NaN         WASHINGTON                f   \n",
       "2                f     NaN         WASHINGTON                f   \n",
       "3                f     NaN         WASHINGTON                f   \n",
       "4                f     NaN         WASHINGTON                f   \n",
       "\n",
       "  cancellation_policy  require_guest_profile_picture  \\\n",
       "0            moderate                              f   \n",
       "1              strict                              t   \n",
       "2              strict                              f   \n",
       "3            flexible                              f   \n",
       "4              strict                              f   \n",
       "\n",
       "  require_guest_phone_verification calculated_host_listings_count  \\\n",
       "0                                f                              2   \n",
       "1                                t                              6   \n",
       "2                                f                              2   \n",
       "3                                f                              1   \n",
       "4                                f                              1   \n",
       "\n",
       "  reviews_per_month  \n",
       "0              4.07  \n",
       "1              1.48  \n",
       "2              1.15  \n",
       "3               NaN  \n",
       "4              0.89  \n",
       "\n",
       "[5 rows x 92 columns]"
      ]
     },
     "execution_count": 5,
     "metadata": {},
     "output_type": "execute_result"
    }
   ],
   "source": [
    "lst.head()"
   ]
  },
  {
   "cell_type": "code",
   "execution_count": 6,
   "metadata": {},
   "outputs": [
    {
     "name": "stdout",
     "output_type": "stream",
     "text": [
      "<class 'pandas.core.frame.DataFrame'>\n",
      "RangeIndex: 3818 entries, 0 to 3817\n",
      "Data columns (total 92 columns):\n",
      "id                                  3818 non-null int64\n",
      "listing_url                         3818 non-null object\n",
      "scrape_id                           3818 non-null int64\n",
      "last_scraped                        3818 non-null object\n",
      "name                                3818 non-null object\n",
      "summary                             3641 non-null object\n",
      "space                               3249 non-null object\n",
      "description                         3818 non-null object\n",
      "experiences_offered                 3818 non-null object\n",
      "neighborhood_overview               2786 non-null object\n",
      "notes                               2212 non-null object\n",
      "transit                             2884 non-null object\n",
      "thumbnail_url                       3498 non-null object\n",
      "medium_url                          3498 non-null object\n",
      "picture_url                         3818 non-null object\n",
      "xl_picture_url                      3498 non-null object\n",
      "host_id                             3818 non-null int64\n",
      "host_url                            3818 non-null object\n",
      "host_name                           3816 non-null object\n",
      "host_since                          3816 non-null object\n",
      "host_location                       3810 non-null object\n",
      "host_about                          2959 non-null object\n",
      "host_response_time                  3295 non-null object\n",
      "host_response_rate                  3295 non-null object\n",
      "host_acceptance_rate                3045 non-null object\n",
      "host_is_superhost                   3816 non-null object\n",
      "host_thumbnail_url                  3816 non-null object\n",
      "host_picture_url                    3816 non-null object\n",
      "host_neighbourhood                  3518 non-null object\n",
      "host_listings_count                 3816 non-null float64\n",
      "host_total_listings_count           3816 non-null float64\n",
      "host_verifications                  3818 non-null object\n",
      "host_has_profile_pic                3816 non-null object\n",
      "host_identity_verified              3816 non-null object\n",
      "street                              3818 non-null object\n",
      "neighbourhood                       3402 non-null object\n",
      "neighbourhood_cleansed              3818 non-null object\n",
      "neighbourhood_group_cleansed        3818 non-null object\n",
      "city                                3818 non-null object\n",
      "state                               3818 non-null object\n",
      "zipcode                             3811 non-null object\n",
      "market                              3818 non-null object\n",
      "smart_location                      3818 non-null object\n",
      "country_code                        3818 non-null object\n",
      "country                             3818 non-null object\n",
      "latitude                            3818 non-null float64\n",
      "longitude                           3818 non-null float64\n",
      "is_location_exact                   3818 non-null object\n",
      "property_type                       3817 non-null object\n",
      "room_type                           3818 non-null object\n",
      "accommodates                        3818 non-null int64\n",
      "bathrooms                           3802 non-null float64\n",
      "bedrooms                            3812 non-null float64\n",
      "beds                                3817 non-null float64\n",
      "bed_type                            3818 non-null object\n",
      "amenities                           3818 non-null object\n",
      "square_feet                         97 non-null float64\n",
      "price                               3818 non-null object\n",
      "weekly_price                        2009 non-null object\n",
      "monthly_price                       1517 non-null object\n",
      "security_deposit                    1866 non-null object\n",
      "cleaning_fee                        2788 non-null object\n",
      "guests_included                     3818 non-null int64\n",
      "extra_people                        3818 non-null object\n",
      "minimum_nights                      3818 non-null int64\n",
      "maximum_nights                      3818 non-null int64\n",
      "calendar_updated                    3818 non-null object\n",
      "has_availability                    3818 non-null object\n",
      "availability_30                     3818 non-null int64\n",
      "availability_60                     3818 non-null int64\n",
      "availability_90                     3818 non-null int64\n",
      "availability_365                    3818 non-null int64\n",
      "calendar_last_scraped               3818 non-null object\n",
      "number_of_reviews                   3818 non-null int64\n",
      "first_review                        3191 non-null object\n",
      "last_review                         3191 non-null object\n",
      "review_scores_rating                3171 non-null float64\n",
      "review_scores_accuracy              3160 non-null float64\n",
      "review_scores_cleanliness           3165 non-null float64\n",
      "review_scores_checkin               3160 non-null float64\n",
      "review_scores_communication         3167 non-null float64\n",
      "review_scores_location              3163 non-null float64\n",
      "review_scores_value                 3162 non-null float64\n",
      "requires_license                    3818 non-null object\n",
      "license                             0 non-null float64\n",
      "jurisdiction_names                  3818 non-null object\n",
      "instant_bookable                    3818 non-null object\n",
      "cancellation_policy                 3818 non-null object\n",
      "require_guest_profile_picture       3818 non-null object\n",
      "require_guest_phone_verification    3818 non-null object\n",
      "calculated_host_listings_count      3818 non-null int64\n",
      "reviews_per_month                   3191 non-null float64\n",
      "dtypes: float64(17), int64(13), object(62)\n",
      "memory usage: 2.7+ MB\n"
     ]
    }
   ],
   "source": [
    "lst.info()"
   ]
  },
  {
   "cell_type": "code",
   "execution_count": 7,
   "metadata": {},
   "outputs": [
    {
     "data": {
      "text/html": [
       "<div>\n",
       "<style scoped>\n",
       "    .dataframe tbody tr th:only-of-type {\n",
       "        vertical-align: middle;\n",
       "    }\n",
       "\n",
       "    .dataframe tbody tr th {\n",
       "        vertical-align: top;\n",
       "    }\n",
       "\n",
       "    .dataframe thead th {\n",
       "        text-align: right;\n",
       "    }\n",
       "</style>\n",
       "<table border=\"1\" class=\"dataframe\">\n",
       "  <thead>\n",
       "    <tr style=\"text-align: right;\">\n",
       "      <th></th>\n",
       "      <th>listing_id</th>\n",
       "      <th>id</th>\n",
       "      <th>date</th>\n",
       "      <th>reviewer_id</th>\n",
       "      <th>reviewer_name</th>\n",
       "      <th>comments</th>\n",
       "    </tr>\n",
       "  </thead>\n",
       "  <tbody>\n",
       "    <tr>\n",
       "      <th>0</th>\n",
       "      <td>7202016</td>\n",
       "      <td>38917982</td>\n",
       "      <td>2015-07-19</td>\n",
       "      <td>28943674</td>\n",
       "      <td>Bianca</td>\n",
       "      <td>Cute and cozy place. Perfect location to every...</td>\n",
       "    </tr>\n",
       "    <tr>\n",
       "      <th>1</th>\n",
       "      <td>7202016</td>\n",
       "      <td>39087409</td>\n",
       "      <td>2015-07-20</td>\n",
       "      <td>32440555</td>\n",
       "      <td>Frank</td>\n",
       "      <td>Kelly has a great room in a very central locat...</td>\n",
       "    </tr>\n",
       "    <tr>\n",
       "      <th>2</th>\n",
       "      <td>7202016</td>\n",
       "      <td>39820030</td>\n",
       "      <td>2015-07-26</td>\n",
       "      <td>37722850</td>\n",
       "      <td>Ian</td>\n",
       "      <td>Very spacious apartment, and in a great neighb...</td>\n",
       "    </tr>\n",
       "    <tr>\n",
       "      <th>3</th>\n",
       "      <td>7202016</td>\n",
       "      <td>40813543</td>\n",
       "      <td>2015-08-02</td>\n",
       "      <td>33671805</td>\n",
       "      <td>George</td>\n",
       "      <td>Close to Seattle Center and all it has to offe...</td>\n",
       "    </tr>\n",
       "    <tr>\n",
       "      <th>4</th>\n",
       "      <td>7202016</td>\n",
       "      <td>41986501</td>\n",
       "      <td>2015-08-10</td>\n",
       "      <td>34959538</td>\n",
       "      <td>Ming</td>\n",
       "      <td>Kelly was a great host and very accommodating ...</td>\n",
       "    </tr>\n",
       "  </tbody>\n",
       "</table>\n",
       "</div>"
      ],
      "text/plain": [
       "   listing_id        id        date  reviewer_id reviewer_name  \\\n",
       "0     7202016  38917982  2015-07-19     28943674        Bianca   \n",
       "1     7202016  39087409  2015-07-20     32440555         Frank   \n",
       "2     7202016  39820030  2015-07-26     37722850           Ian   \n",
       "3     7202016  40813543  2015-08-02     33671805        George   \n",
       "4     7202016  41986501  2015-08-10     34959538          Ming   \n",
       "\n",
       "                                            comments  \n",
       "0  Cute and cozy place. Perfect location to every...  \n",
       "1  Kelly has a great room in a very central locat...  \n",
       "2  Very spacious apartment, and in a great neighb...  \n",
       "3  Close to Seattle Center and all it has to offe...  \n",
       "4  Kelly was a great host and very accommodating ...  "
      ]
     },
     "execution_count": 7,
     "metadata": {},
     "output_type": "execute_result"
    }
   ],
   "source": [
    "rev.head()"
   ]
  },
  {
   "cell_type": "code",
   "execution_count": 8,
   "metadata": {},
   "outputs": [
    {
     "name": "stdout",
     "output_type": "stream",
     "text": [
      "<class 'pandas.core.frame.DataFrame'>\n",
      "RangeIndex: 84849 entries, 0 to 84848\n",
      "Data columns (total 6 columns):\n",
      "listing_id       84849 non-null int64\n",
      "id               84849 non-null int64\n",
      "date             84849 non-null object\n",
      "reviewer_id      84849 non-null int64\n",
      "reviewer_name    84849 non-null object\n",
      "comments         84831 non-null object\n",
      "dtypes: int64(3), object(3)\n",
      "memory usage: 3.9+ MB\n"
     ]
    }
   ],
   "source": [
    "rev.info()"
   ]
  },
  {
   "cell_type": "markdown",
   "metadata": {},
   "source": [
    "## Seasonal pattern "
   ]
  },
  {
   "cell_type": "markdown",
   "metadata": {},
   "source": [
    "What is the seasonal pattern of Airbnb in Seattle?"
   ]
  },
  {
   "cell_type": "code",
   "execution_count": 9,
   "metadata": {},
   "outputs": [],
   "source": [
    "# import libraries to plot time series\n",
    "from datetime import datetime\n",
    "import matplotlib.dates as mdates\n",
    "from scipy.ndimage.filters import gaussian_filter1d"
   ]
  },
  {
   "cell_type": "code",
   "execution_count": 10,
   "metadata": {},
   "outputs": [],
   "source": [
    "# define a function to plot daily data\n",
    "def timeplot(data, feat, title):\n",
    "    \n",
    "    plt.figure(figsize=(20,8))\n",
    "    \n",
    "    x = [datetime.strptime(date, '%Y-%m-%d') for date in data.index]\n",
    "    y = data[feat]\n",
    "    y_smooth = gaussian_filter1d(y, sigma=5)\n",
    "    \n",
    "    plt.gca().xaxis.set_major_formatter(mdates.DateFormatter('%Y-%m-%d'))\n",
    "    plt.gca().xaxis.set_major_locator(mdates.MonthLocator())\n",
    "    plt.title(title)\n",
    "    \n",
    "    plt.plot(x, y_smooth, 'c-')\n",
    "    plt.show()"
   ]
  },
  {
   "cell_type": "markdown",
   "metadata": {},
   "source": [
    "### Seasonal Booking"
   ]
  },
  {
   "cell_type": "code",
   "execution_count": 11,
   "metadata": {},
   "outputs": [
    {
     "data": {
      "text/plain": [
       "t    934542\n",
       "f    459028\n",
       "Name: available, dtype: int64"
      ]
     },
     "execution_count": 11,
     "metadata": {},
     "output_type": "execute_result"
    }
   ],
   "source": [
    "cal['available'].value_counts()"
   ]
  },
  {
   "cell_type": "code",
   "execution_count": 12,
   "metadata": {},
   "outputs": [],
   "source": [
    "# convert 'available' into binary\n",
    "cal['available'] = cal['available'].map(lambda available: 1 if available == 't' else 0)"
   ]
  },
  {
   "cell_type": "code",
   "execution_count": 13,
   "metadata": {},
   "outputs": [
    {
     "data": {
      "text/plain": [
       "1    934542\n",
       "0    459028\n",
       "Name: available, dtype: int64"
      ]
     },
     "execution_count": 13,
     "metadata": {},
     "output_type": "execute_result"
    }
   ],
   "source": [
    "# check\n",
    "cal['available'].value_counts()"
   ]
  },
  {
   "cell_type": "code",
   "execution_count": 14,
   "metadata": {},
   "outputs": [],
   "source": [
    "ocp = cal[['date', 'available']].groupby('date').mean()\n",
    "ocp['occupancy'] = 1 - ocp['available']"
   ]
  },
  {
   "cell_type": "code",
   "execution_count": 15,
   "metadata": {},
   "outputs": [
    {
     "data": {
      "text/html": [
       "<div>\n",
       "<style scoped>\n",
       "    .dataframe tbody tr th:only-of-type {\n",
       "        vertical-align: middle;\n",
       "    }\n",
       "\n",
       "    .dataframe tbody tr th {\n",
       "        vertical-align: top;\n",
       "    }\n",
       "\n",
       "    .dataframe thead th {\n",
       "        text-align: right;\n",
       "    }\n",
       "</style>\n",
       "<table border=\"1\" class=\"dataframe\">\n",
       "  <thead>\n",
       "    <tr style=\"text-align: right;\">\n",
       "      <th></th>\n",
       "      <th>available</th>\n",
       "      <th>occupancy</th>\n",
       "    </tr>\n",
       "    <tr>\n",
       "      <th>date</th>\n",
       "      <th></th>\n",
       "      <th></th>\n",
       "    </tr>\n",
       "  </thead>\n",
       "  <tbody>\n",
       "    <tr>\n",
       "      <th>2016-01-04</th>\n",
       "      <td>0.454426</td>\n",
       "      <td>0.545574</td>\n",
       "    </tr>\n",
       "    <tr>\n",
       "      <th>2016-01-05</th>\n",
       "      <td>0.488999</td>\n",
       "      <td>0.511001</td>\n",
       "    </tr>\n",
       "    <tr>\n",
       "      <th>2016-01-06</th>\n",
       "      <td>0.478261</td>\n",
       "      <td>0.521739</td>\n",
       "    </tr>\n",
       "    <tr>\n",
       "      <th>2016-01-07</th>\n",
       "      <td>0.465165</td>\n",
       "      <td>0.534835</td>\n",
       "    </tr>\n",
       "    <tr>\n",
       "      <th>2016-01-08</th>\n",
       "      <td>0.466737</td>\n",
       "      <td>0.533263</td>\n",
       "    </tr>\n",
       "  </tbody>\n",
       "</table>\n",
       "</div>"
      ],
      "text/plain": [
       "            available  occupancy\n",
       "date                            \n",
       "2016-01-04   0.454426   0.545574\n",
       "2016-01-05   0.488999   0.511001\n",
       "2016-01-06   0.478261   0.521739\n",
       "2016-01-07   0.465165   0.534835\n",
       "2016-01-08   0.466737   0.533263"
      ]
     },
     "execution_count": 15,
     "metadata": {},
     "output_type": "execute_result"
    }
   ],
   "source": [
    "ocp.head()"
   ]
  },
  {
   "cell_type": "code",
   "execution_count": 16,
   "metadata": {},
   "outputs": [
    {
     "data": {
      "image/png": "[encoded data removed]",
      "text/plain": [
       "<Figure size 1440x576 with 1 Axes>"
      ]
     },
     "metadata": {
      "needs_background": "light"
     },
     "output_type": "display_data"
    }
   ],
   "source": [
    "timeplot(ocp, 'occupancy', 'Occupancy Rate by Date')"
   ]
  },
  {
   "cell_type": "markdown",
   "metadata": {},
   "source": [
    "The highest occupancy rate is in January 2016, and decreasing rapidly from 50% to 30% in 2 months. Then, it goes up slightly in the start of April and in the start of July seprately. After that, it declines continously.\n",
    "\n",
    "It seems that spring and summer are the busy season. The best weather in Seattle is from late June to early September. And, in fact, there is a peak during that time.\n",
    "\n",
    "However, it is weired to see the ighest occupancy rate is in January 2016. It might be becuase any festivals. Or did the hotels change their price strategy to become more competive? I don't know why."
   ]
  },
  {
   "cell_type": "markdown",
   "metadata": {},
   "source": [
    "### Seasonal Rental Price"
   ]
  },
  {
   "cell_type": "code",
   "execution_count": 17,
   "metadata": {},
   "outputs": [],
   "source": [
    "# convert 'price' into float\n",
    "cal['price'] = cal['price'].map(lambda price: float(price[1:].replace(',', '')), na_action='ignore')"
   ]
  },
  {
   "cell_type": "markdown",
   "metadata": {},
   "source": [
    "#### Median of Price"
   ]
  },
  {
   "cell_type": "code",
   "execution_count": 18,
   "metadata": {},
   "outputs": [],
   "source": [
    "pri_median = cal[['date', 'price']].groupby('date').median()"
   ]
  },
  {
   "cell_type": "code",
   "execution_count": 19,
   "metadata": {},
   "outputs": [
    {
     "data": {
      "image/png": "[encoded data removed]",
      "text/plain": [
       "<Figure size 1440x576 with 1 Axes>"
      ]
     },
     "metadata": {
      "needs_background": "light"
     },
     "output_type": "display_data"
    }
   ],
   "source": [
    "timeplot(pri_median, 'price', 'Median Price by Date')"
   ]
  },
  {
   "cell_type": "markdown",
   "metadata": {},
   "source": [
    "Obviously, the rental price are higher from May to September. In that time, Seattle usually have nice weather. It makes sense that rental price in Rainy Day is cheaper.\n",
    "\n",
    "In addition, the cheapest price is in in January 2016. It could be a reason for high occupancy, but I don't think it is enough to explain 50% occupancy rate in January."
   ]
  },
  {
   "cell_type": "markdown",
   "metadata": {},
   "source": [
    "#### Mean of Price"
   ]
  },
  {
   "cell_type": "markdown",
   "metadata": {},
   "source": [
    "I belieave the median of price shows the pattern of price better than mean, but it is ok to take a look at the mean."
   ]
  },
  {
   "cell_type": "code",
   "execution_count": 20,
   "metadata": {},
   "outputs": [],
   "source": [
    "pri_mean = cal[['date', 'price']].groupby('date').mean()"
   ]
  },
  {
   "cell_type": "code",
   "execution_count": 21,
   "metadata": {},
   "outputs": [
    {
     "data": {
      "image/png": "[encoded data removed]",
      "text/plain": [
       "<Figure size 1440x576 with 1 Axes>"
      ]
     },
     "metadata": {
      "needs_background": "light"
     },
     "output_type": "display_data"
    }
   ],
   "source": [
    "timeplot(pri_mean, 'price', 'Mean Price by Date')"
   ]
  },
  {
   "cell_type": "markdown",
   "metadata": {},
   "source": [
    "It looks likes a little bit diffrence, but it still shows the same pattern."
   ]
  },
  {
   "cell_type": "markdown",
   "metadata": {},
   "source": [
    "## Popular Airbnb Homes"
   ]
  },
  {
   "cell_type": "code",
   "execution_count": 22,
   "metadata": {},
   "outputs": [],
   "source": [
    "ocp = cal[['listing_id', 'available']].groupby('listing_id').mean()\n",
    "ocp['occupancy'] = 1 - ocp['available']\n",
    "ocp.drop(['available'], axis = 1, inplace=True)\n",
    "ocp['id'] = ocp.index"
   ]
  },
  {
   "cell_type": "code",
   "execution_count": 23,
   "metadata": {},
   "outputs": [
    {
     "data": {
      "text/html": [
       "<div>\n",
       "<style scoped>\n",
       "    .dataframe tbody tr th:only-of-type {\n",
       "        vertical-align: middle;\n",
       "    }\n",
       "\n",
       "    .dataframe tbody tr th {\n",
       "        vertical-align: top;\n",
       "    }\n",
       "\n",
       "    .dataframe thead th {\n",
       "        text-align: right;\n",
       "    }\n",
       "</style>\n",
       "<table border=\"1\" class=\"dataframe\">\n",
       "  <thead>\n",
       "    <tr style=\"text-align: right;\">\n",
       "      <th></th>\n",
       "      <th>occupancy</th>\n",
       "      <th>id</th>\n",
       "    </tr>\n",
       "    <tr>\n",
       "      <th>listing_id</th>\n",
       "      <th></th>\n",
       "      <th></th>\n",
       "    </tr>\n",
       "  </thead>\n",
       "  <tbody>\n",
       "    <tr>\n",
       "      <th>3335</th>\n",
       "      <td>0.153425</td>\n",
       "      <td>3335</td>\n",
       "    </tr>\n",
       "    <tr>\n",
       "      <th>4291</th>\n",
       "      <td>0.000000</td>\n",
       "      <td>4291</td>\n",
       "    </tr>\n",
       "    <tr>\n",
       "      <th>5682</th>\n",
       "      <td>0.153425</td>\n",
       "      <td>5682</td>\n",
       "    </tr>\n",
       "    <tr>\n",
       "      <th>6606</th>\n",
       "      <td>0.000000</td>\n",
       "      <td>6606</td>\n",
       "    </tr>\n",
       "    <tr>\n",
       "      <th>7369</th>\n",
       "      <td>0.854795</td>\n",
       "      <td>7369</td>\n",
       "    </tr>\n",
       "  </tbody>\n",
       "</table>\n",
       "</div>"
      ],
      "text/plain": [
       "            occupancy    id\n",
       "listing_id                 \n",
       "3335         0.153425  3335\n",
       "4291         0.000000  4291\n",
       "5682         0.153425  5682\n",
       "6606         0.000000  6606\n",
       "7369         0.854795  7369"
      ]
     },
     "execution_count": 23,
     "metadata": {},
     "output_type": "execute_result"
    }
   ],
   "source": [
    "ocp.head()"
   ]
  },
  {
   "cell_type": "code",
   "execution_count": 24,
   "metadata": {},
   "outputs": [
    {
     "data": {
      "text/html": [
       "<div>\n",
       "<style scoped>\n",
       "    .dataframe tbody tr th:only-of-type {\n",
       "        vertical-align: middle;\n",
       "    }\n",
       "\n",
       "    .dataframe tbody tr th {\n",
       "        vertical-align: top;\n",
       "    }\n",
       "\n",
       "    .dataframe thead th {\n",
       "        text-align: right;\n",
       "    }\n",
       "</style>\n",
       "<table border=\"1\" class=\"dataframe\">\n",
       "  <thead>\n",
       "    <tr style=\"text-align: right;\">\n",
       "      <th></th>\n",
       "      <th>occupancy</th>\n",
       "      <th>id</th>\n",
       "    </tr>\n",
       "  </thead>\n",
       "  <tbody>\n",
       "    <tr>\n",
       "      <th>count</th>\n",
       "      <td>3818.000000</td>\n",
       "      <td>3.818000e+03</td>\n",
       "    </tr>\n",
       "    <tr>\n",
       "      <th>mean</th>\n",
       "      <td>0.329390</td>\n",
       "      <td>5.550111e+06</td>\n",
       "    </tr>\n",
       "    <tr>\n",
       "      <th>std</th>\n",
       "      <td>0.347322</td>\n",
       "      <td>2.962660e+06</td>\n",
       "    </tr>\n",
       "    <tr>\n",
       "      <th>min</th>\n",
       "      <td>0.000000</td>\n",
       "      <td>3.335000e+03</td>\n",
       "    </tr>\n",
       "    <tr>\n",
       "      <th>25%</th>\n",
       "      <td>0.013699</td>\n",
       "      <td>3.258256e+06</td>\n",
       "    </tr>\n",
       "    <tr>\n",
       "      <th>50%</th>\n",
       "      <td>0.156164</td>\n",
       "      <td>6.118244e+06</td>\n",
       "    </tr>\n",
       "    <tr>\n",
       "      <th>75%</th>\n",
       "      <td>0.660274</td>\n",
       "      <td>8.035127e+06</td>\n",
       "    </tr>\n",
       "    <tr>\n",
       "      <th>max</th>\n",
       "      <td>1.000000</td>\n",
       "      <td>1.034016e+07</td>\n",
       "    </tr>\n",
       "  </tbody>\n",
       "</table>\n",
       "</div>"
      ],
      "text/plain": [
       "         occupancy            id\n",
       "count  3818.000000  3.818000e+03\n",
       "mean      0.329390  5.550111e+06\n",
       "std       0.347322  2.962660e+06\n",
       "min       0.000000  3.335000e+03\n",
       "25%       0.013699  3.258256e+06\n",
       "50%       0.156164  6.118244e+06\n",
       "75%       0.660274  8.035127e+06\n",
       "max       1.000000  1.034016e+07"
      ]
     },
     "execution_count": 24,
     "metadata": {},
     "output_type": "execute_result"
    }
   ],
   "source": [
    "ocp.describe()"
   ]
  },
  {
   "cell_type": "code",
   "execution_count": 25,
   "metadata": {},
   "outputs": [
    {
     "data": {
      "image/png": "[encoded data removed]",
      "text/plain": [
       "<Figure size 576x432 with 1 Axes>"
      ]
     },
     "metadata": {
      "needs_background": "light"
     },
     "output_type": "display_data"
    }
   ],
   "source": [
    "plt.figure(figsize=(8,6))\n",
    "sns.distplot(ocp['occupancy'], color='c', kde=False)\n",
    "plt.show()"
   ]
  },
  {
   "cell_type": "markdown",
   "metadata": {},
   "source": [
    "Let's define the Airbnb rooms whose occupancy rates are greater than or qeual to 60% are popular. "
   ]
  },
  {
   "cell_type": "code",
   "execution_count": 26,
   "metadata": {},
   "outputs": [],
   "source": [
    "# join tables\n",
    "data = pd.merge(ocp, lst, how='inner', left_on='id', right_on='id')"
   ]
  },
  {
   "cell_type": "code",
   "execution_count": 27,
   "metadata": {},
   "outputs": [
    {
     "data": {
      "text/html": [
       "<div>\n",
       "<style scoped>\n",
       "    .dataframe tbody tr th:only-of-type {\n",
       "        vertical-align: middle;\n",
       "    }\n",
       "\n",
       "    .dataframe tbody tr th {\n",
       "        vertical-align: top;\n",
       "    }\n",
       "\n",
       "    .dataframe thead th {\n",
       "        text-align: right;\n",
       "    }\n",
       "</style>\n",
       "<table border=\"1\" class=\"dataframe\">\n",
       "  <thead>\n",
       "    <tr style=\"text-align: right;\">\n",
       "      <th></th>\n",
       "      <th>occupancy</th>\n",
       "      <th>id</th>\n",
       "      <th>listing_url</th>\n",
       "      <th>scrape_id</th>\n",
       "      <th>last_scraped</th>\n",
       "      <th>name</th>\n",
       "      <th>summary</th>\n",
       "      <th>space</th>\n",
       "      <th>description</th>\n",
       "      <th>experiences_offered</th>\n",
       "      <th>...</th>\n",
       "      <th>review_scores_value</th>\n",
       "      <th>requires_license</th>\n",
       "      <th>license</th>\n",
       "      <th>jurisdiction_names</th>\n",
       "      <th>instant_bookable</th>\n",
       "      <th>cancellation_policy</th>\n",
       "      <th>require_guest_profile_picture</th>\n",
       "      <th>require_guest_phone_verification</th>\n",
       "      <th>calculated_host_listings_count</th>\n",
       "      <th>reviews_per_month</th>\n",
       "    </tr>\n",
       "  </thead>\n",
       "  <tbody>\n",
       "    <tr>\n",
       "      <th>0</th>\n",
       "      <td>0.153425</td>\n",
       "      <td>3335</td>\n",
       "      <td>https://www.airbnb.com/rooms/3335</td>\n",
       "      <td>20160104002432</td>\n",
       "      <td>2016-01-04</td>\n",
       "      <td>Sweet Seattle Urban Homestead 2 Bdr</td>\n",
       "      <td>Welcome! If you stay here you will be living i...</td>\n",
       "      <td>Welcome!  Come enjoy your time in Seattle at a...</td>\n",
       "      <td>Welcome! If you stay here you will be living i...</td>\n",
       "      <td>none</td>\n",
       "      <td>...</td>\n",
       "      <td>NaN</td>\n",
       "      <td>f</td>\n",
       "      <td>NaN</td>\n",
       "      <td>WASHINGTON</td>\n",
       "      <td>f</td>\n",
       "      <td>strict</td>\n",
       "      <td>f</td>\n",
       "      <td>f</td>\n",
       "      <td>4</td>\n",
       "      <td>NaN</td>\n",
       "    </tr>\n",
       "    <tr>\n",
       "      <th>1</th>\n",
       "      <td>0.000000</td>\n",
       "      <td>4291</td>\n",
       "      <td>https://www.airbnb.com/rooms/4291</td>\n",
       "      <td>20160104002432</td>\n",
       "      <td>2016-01-04</td>\n",
       "      <td>Sunrise in Seattle Master Suite</td>\n",
       "      <td>NaN</td>\n",
       "      <td>Located in Seattle, this is a spacious, clean...</td>\n",
       "      <td>Located in Seattle, this is a spacious, clean...</td>\n",
       "      <td>none</td>\n",
       "      <td>...</td>\n",
       "      <td>9.0</td>\n",
       "      <td>f</td>\n",
       "      <td>NaN</td>\n",
       "      <td>WASHINGTON</td>\n",
       "      <td>f</td>\n",
       "      <td>moderate</td>\n",
       "      <td>f</td>\n",
       "      <td>f</td>\n",
       "      <td>5</td>\n",
       "      <td>1.14</td>\n",
       "    </tr>\n",
       "    <tr>\n",
       "      <th>2</th>\n",
       "      <td>0.153425</td>\n",
       "      <td>5682</td>\n",
       "      <td>https://www.airbnb.com/rooms/5682</td>\n",
       "      <td>20160104002432</td>\n",
       "      <td>2016-01-04</td>\n",
       "      <td>Cozy Studio, min. to downtown -WiFi</td>\n",
       "      <td>The Cozy Studio is a perfect launchpad for you...</td>\n",
       "      <td>Hello fellow travelers, Save some money and ha...</td>\n",
       "      <td>The Cozy Studio is a perfect launchpad for you...</td>\n",
       "      <td>none</td>\n",
       "      <td>...</td>\n",
       "      <td>10.0</td>\n",
       "      <td>f</td>\n",
       "      <td>NaN</td>\n",
       "      <td>WASHINGTON</td>\n",
       "      <td>t</td>\n",
       "      <td>strict</td>\n",
       "      <td>f</td>\n",
       "      <td>t</td>\n",
       "      <td>1</td>\n",
       "      <td>4.21</td>\n",
       "    </tr>\n",
       "    <tr>\n",
       "      <th>3</th>\n",
       "      <td>0.000000</td>\n",
       "      <td>6606</td>\n",
       "      <td>https://www.airbnb.com/rooms/6606</td>\n",
       "      <td>20160104002432</td>\n",
       "      <td>2016-01-04</td>\n",
       "      <td>Fab, private seattle urban cottage!</td>\n",
       "      <td>NaN</td>\n",
       "      <td>Soo centrally located, this is a little house ...</td>\n",
       "      <td>Soo centrally located, this is a little house ...</td>\n",
       "      <td>none</td>\n",
       "      <td>...</td>\n",
       "      <td>9.0</td>\n",
       "      <td>f</td>\n",
       "      <td>NaN</td>\n",
       "      <td>WASHINGTON</td>\n",
       "      <td>f</td>\n",
       "      <td>strict</td>\n",
       "      <td>f</td>\n",
       "      <td>f</td>\n",
       "      <td>1</td>\n",
       "      <td>0.66</td>\n",
       "    </tr>\n",
       "    <tr>\n",
       "      <th>4</th>\n",
       "      <td>0.854795</td>\n",
       "      <td>7369</td>\n",
       "      <td>https://www.airbnb.com/rooms/7369</td>\n",
       "      <td>20160104002432</td>\n",
       "      <td>2016-01-04</td>\n",
       "      <td>launchingpad/landingpad</td>\n",
       "      <td>contemporary condo on the western edge of pike...</td>\n",
       "      <td>spacious condo with all the amenities</td>\n",
       "      <td>contemporary condo on the western edge of pike...</td>\n",
       "      <td>none</td>\n",
       "      <td>...</td>\n",
       "      <td>9.0</td>\n",
       "      <td>f</td>\n",
       "      <td>NaN</td>\n",
       "      <td>WASHINGTON</td>\n",
       "      <td>f</td>\n",
       "      <td>flexible</td>\n",
       "      <td>f</td>\n",
       "      <td>f</td>\n",
       "      <td>1</td>\n",
       "      <td>0.50</td>\n",
       "    </tr>\n",
       "  </tbody>\n",
       "</table>\n",
       "<p>5 rows × 93 columns</p>\n",
       "</div>"
      ],
      "text/plain": [
       "   occupancy    id                        listing_url       scrape_id  \\\n",
       "0   0.153425  3335  https://www.airbnb.com/rooms/3335  20160104002432   \n",
       "1   0.000000  4291  https://www.airbnb.com/rooms/4291  20160104002432   \n",
       "2   0.153425  5682  https://www.airbnb.com/rooms/5682  20160104002432   \n",
       "3   0.000000  6606  https://www.airbnb.com/rooms/6606  20160104002432   \n",
       "4   0.854795  7369  https://www.airbnb.com/rooms/7369  20160104002432   \n",
       "\n",
       "  last_scraped                                 name  \\\n",
       "0   2016-01-04  Sweet Seattle Urban Homestead 2 Bdr   \n",
       "1   2016-01-04      Sunrise in Seattle Master Suite   \n",
       "2   2016-01-04  Cozy Studio, min. to downtown -WiFi   \n",
       "3   2016-01-04  Fab, private seattle urban cottage!   \n",
       "4   2016-01-04             launchingpad/landingpad    \n",
       "\n",
       "                                             summary  \\\n",
       "0  Welcome! If you stay here you will be living i...   \n",
       "1                                                NaN   \n",
       "2  The Cozy Studio is a perfect launchpad for you...   \n",
       "3                                                NaN   \n",
       "4  contemporary condo on the western edge of pike...   \n",
       "\n",
       "                                               space  \\\n",
       "0  Welcome!  Come enjoy your time in Seattle at a...   \n",
       "1   Located in Seattle, this is a spacious, clean...   \n",
       "2  Hello fellow travelers, Save some money and ha...   \n",
       "3  Soo centrally located, this is a little house ...   \n",
       "4              spacious condo with all the amenities   \n",
       "\n",
       "                                         description experiences_offered  ...  \\\n",
       "0  Welcome! If you stay here you will be living i...                none  ...   \n",
       "1   Located in Seattle, this is a spacious, clean...                none  ...   \n",
       "2  The Cozy Studio is a perfect launchpad for you...                none  ...   \n",
       "3  Soo centrally located, this is a little house ...                none  ...   \n",
       "4  contemporary condo on the western edge of pike...                none  ...   \n",
       "\n",
       "  review_scores_value requires_license license jurisdiction_names  \\\n",
       "0                 NaN                f     NaN         WASHINGTON   \n",
       "1                 9.0                f     NaN         WASHINGTON   \n",
       "2                10.0                f     NaN         WASHINGTON   \n",
       "3                 9.0                f     NaN         WASHINGTON   \n",
       "4                 9.0                f     NaN         WASHINGTON   \n",
       "\n",
       "  instant_bookable cancellation_policy require_guest_profile_picture  \\\n",
       "0                f              strict                             f   \n",
       "1                f            moderate                             f   \n",
       "2                t              strict                             f   \n",
       "3                f              strict                             f   \n",
       "4                f            flexible                             f   \n",
       "\n",
       "   require_guest_phone_verification calculated_host_listings_count  \\\n",
       "0                                 f                              4   \n",
       "1                                 f                              5   \n",
       "2                                 t                              1   \n",
       "3                                 f                              1   \n",
       "4                                 f                              1   \n",
       "\n",
       "  reviews_per_month  \n",
       "0               NaN  \n",
       "1              1.14  \n",
       "2              4.21  \n",
       "3              0.66  \n",
       "4              0.50  \n",
       "\n",
       "[5 rows x 93 columns]"
      ]
     },
     "execution_count": 27,
     "metadata": {},
     "output_type": "execute_result"
    }
   ],
   "source": [
    "data.head()"
   ]
  },
  {
   "cell_type": "code",
   "execution_count": 28,
   "metadata": {},
   "outputs": [
    {
     "name": "stdout",
     "output_type": "stream",
     "text": [
      "<class 'pandas.core.frame.DataFrame'>\n",
      "Int64Index: 3818 entries, 0 to 3817\n",
      "Data columns (total 93 columns):\n",
      "occupancy                           3818 non-null float64\n",
      "id                                  3818 non-null int64\n",
      "listing_url                         3818 non-null object\n",
      "scrape_id                           3818 non-null int64\n",
      "last_scraped                        3818 non-null object\n",
      "name                                3818 non-null object\n",
      "summary                             3641 non-null object\n",
      "space                               3249 non-null object\n",
      "description                         3818 non-null object\n",
      "experiences_offered                 3818 non-null object\n",
      "neighborhood_overview               2786 non-null object\n",
      "notes                               2212 non-null object\n",
      "transit                             2884 non-null object\n",
      "thumbnail_url                       3498 non-null object\n",
      "medium_url                          3498 non-null object\n",
      "picture_url                         3818 non-null object\n",
      "xl_picture_url                      3498 non-null object\n",
      "host_id                             3818 non-null int64\n",
      "host_url                            3818 non-null object\n",
      "host_name                           3816 non-null object\n",
      "host_since                          3816 non-null object\n",
      "host_location                       3810 non-null object\n",
      "host_about                          2959 non-null object\n",
      "host_response_time                  3295 non-null object\n",
      "host_response_rate                  3295 non-null object\n",
      "host_acceptance_rate                3045 non-null object\n",
      "host_is_superhost                   3816 non-null object\n",
      "host_thumbnail_url                  3816 non-null object\n",
      "host_picture_url                    3816 non-null object\n",
      "host_neighbourhood                  3518 non-null object\n",
      "host_listings_count                 3816 non-null float64\n",
      "host_total_listings_count           3816 non-null float64\n",
      "host_verifications                  3818 non-null object\n",
      "host_has_profile_pic                3816 non-null object\n",
      "host_identity_verified              3816 non-null object\n",
      "street                              3818 non-null object\n",
      "neighbourhood                       3402 non-null object\n",
      "neighbourhood_cleansed              3818 non-null object\n",
      "neighbourhood_group_cleansed        3818 non-null object\n",
      "city                                3818 non-null object\n",
      "state                               3818 non-null object\n",
      "zipcode                             3811 non-null object\n",
      "market                              3818 non-null object\n",
      "smart_location                      3818 non-null object\n",
      "country_code                        3818 non-null object\n",
      "country                             3818 non-null object\n",
      "latitude                            3818 non-null float64\n",
      "longitude                           3818 non-null float64\n",
      "is_location_exact                   3818 non-null object\n",
      "property_type                       3817 non-null object\n",
      "room_type                           3818 non-null object\n",
      "accommodates                        3818 non-null int64\n",
      "bathrooms                           3802 non-null float64\n",
      "bedrooms                            3812 non-null float64\n",
      "beds                                3817 non-null float64\n",
      "bed_type                            3818 non-null object\n",
      "amenities                           3818 non-null object\n",
      "square_feet                         97 non-null float64\n",
      "price                               3818 non-null object\n",
      "weekly_price                        2009 non-null object\n",
      "monthly_price                       1517 non-null object\n",
      "security_deposit                    1866 non-null object\n",
      "cleaning_fee                        2788 non-null object\n",
      "guests_included                     3818 non-null int64\n",
      "extra_people                        3818 non-null object\n",
      "minimum_nights                      3818 non-null int64\n",
      "maximum_nights                      3818 non-null int64\n",
      "calendar_updated                    3818 non-null object\n",
      "has_availability                    3818 non-null object\n",
      "availability_30                     3818 non-null int64\n",
      "availability_60                     3818 non-null int64\n",
      "availability_90                     3818 non-null int64\n",
      "availability_365                    3818 non-null int64\n",
      "calendar_last_scraped               3818 non-null object\n",
      "number_of_reviews                   3818 non-null int64\n",
      "first_review                        3191 non-null object\n",
      "last_review                         3191 non-null object\n",
      "review_scores_rating                3171 non-null float64\n",
      "review_scores_accuracy              3160 non-null float64\n",
      "review_scores_cleanliness           3165 non-null float64\n",
      "review_scores_checkin               3160 non-null float64\n",
      "review_scores_communication         3167 non-null float64\n",
      "review_scores_location              3163 non-null float64\n",
      "review_scores_value                 3162 non-null float64\n",
      "requires_license                    3818 non-null object\n",
      "license                             0 non-null float64\n",
      "jurisdiction_names                  3818 non-null object\n",
      "instant_bookable                    3818 non-null object\n",
      "cancellation_policy                 3818 non-null object\n",
      "require_guest_profile_picture       3818 non-null object\n",
      "require_guest_phone_verification    3818 non-null object\n",
      "calculated_host_listings_count      3818 non-null int64\n",
      "reviews_per_month                   3191 non-null float64\n",
      "dtypes: float64(18), int64(13), object(62)\n",
      "memory usage: 2.7+ MB\n"
     ]
    }
   ],
   "source": [
    "data.info()"
   ]
  },
  {
   "cell_type": "code",
   "execution_count": 29,
   "metadata": {},
   "outputs": [],
   "source": [
    "def comparePlot(feat):\n",
    "    plt.figure(figsize=(8,6))\n",
    "    sns.kdeplot(data['price'][data['occupancy'] >= 0.6], color='m')\n",
    "    sns.kdeplot(data['price'][data['occupancy'] < 0.6], color='c')\n",
    "    plt.legend(['Popular', 'Unpopular'])\n",
    "    plt.show()"
   ]
  },
  {
   "cell_type": "code",
   "execution_count": 30,
   "metadata": {},
   "outputs": [
    {
     "data": {
      "image/png": "[encoded data removed]",
      "text/plain": [
       "<Figure size 576x432 with 1 Axes>"
      ]
     },
     "metadata": {
      "needs_background": "light"
     },
     "output_type": "display_data"
    }
   ],
   "source": [
    "# price\n",
    "data['price'] = data['price'].map(lambda price: float(price[1:].replace(',', '')), na_action='ignore')\n",
    "comparePlot('price')"
   ]
  },
  {
   "cell_type": "code",
   "execution_count": 31,
   "metadata": {},
   "outputs": [
    {
     "name": "stdout",
     "output_type": "stream",
     "text": [
      "124.7785046728972\n",
      "100.0\n"
     ]
    }
   ],
   "source": [
    "print(data['price'][data['occupancy'] >= 0.6].mean())\n",
    "print(data['price'][data['occupancy'] >= 0.6].median())"
   ]
  },
  {
   "cell_type": "code",
   "execution_count": 32,
   "metadata": {},
   "outputs": [
    {
     "name": "stdout",
     "output_type": "stream",
     "text": [
      "129.22125181950508\n",
      "100.0\n"
     ]
    }
   ],
   "source": [
    "print(data['price'][data['occupancy'] < 0.6].mean())\n",
    "print(data['price'][data['occupancy'] < 0.6].median())"
   ]
  },
  {
   "cell_type": "markdown",
   "metadata": {},
   "source": [
    "In general, the popular rooms have cheaper price."
   ]
  },
  {
   "cell_type": "code",
   "execution_count": null,
   "metadata": {},
   "outputs": [],
   "source": []
  }
 ],
 "metadata": {
  "kernelspec": {
   "display_name": "Python 3",
   "language": "python",
   "name": "python3"
  },
  "language_info": {
   "codemirror_mode": {
    "name": "ipython",
    "version": 3
   },
   "file_extension": ".py",
   "mimetype": "text/x-python",
   "name": "python",
   "nbconvert_exporter": "python",
   "pygments_lexer": "ipython3",
   "version": "3.6.8"
  }
 },
 "nbformat": 4,
 "nbformat_minor": 2
}
